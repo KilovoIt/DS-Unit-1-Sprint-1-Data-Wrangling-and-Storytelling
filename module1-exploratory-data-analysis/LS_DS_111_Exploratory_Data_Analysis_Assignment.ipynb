{
  "nbformat": 4,
  "nbformat_minor": 0,
  "metadata": {
    "colab": {
      "name": "LS_DS_111_Exploratory_Data_Analysis_Assignment.ipynb",
      "provenance": [],
      "collapsed_sections": []
    },
    "kernelspec": {
      "name": "python3",
      "display_name": "Python 3"
    }
  },
  "cells": [
    {
      "cell_type": "markdown",
      "metadata": {
        "colab_type": "text",
        "id": "MSnsTgZLKO72"
      },
      "source": [
        "# Practice Loading and Exploring Datasets\n",
        "\n",
        "This assignment is purposely open-ended. You will be asked to load datasets from the [UC-Irvine Machine Learning Repository](https://archive.ics.uci.edu/ml/index.php). \n",
        "\n",
        "Even though you maybe using different datasets than your fellow classmates, try and be supportive and assist each other in the challenges that you are facing. You will only deepend your understanding of these topics as you work to assist one another. Many popular UCI datasets face similar data loading challenges.\n",
        "\n",
        "Remember that the UCI datasets do not necessarily have a file type of `.csv` so it's important that you learn as much as you can about the dataset before you try and load it. See if you can look at the raw text of the file either locally or using the `!curl` shell command -or in some other way before you try and read it in as a dataframe. This will help you catch what would otherwise be unforseen problems.\n",
        "\n",
        "Feel free to embellish this notebook with additional markdown cells,code cells, comments, graphs, etc. Whatever you think helps adequately address the questions."
      ]
    },
    {
      "cell_type": "markdown",
      "metadata": {
        "id": "156P6ndeKojO",
        "colab_type": "text"
      },
      "source": [
        "## 1) Load a dataset from UCI (via its URL)\n",
        "\n",
        "Please navigate to the home page and choose a dataset (other than the Adult dataset) from the \"Most Popular\" section on the right-hand side of the home page. Load the dataset via its URL and check the following (show your work):\n",
        "\n",
        "- Are the headers showing up properly?\n",
        "- Look at the first 5 and the last 5 rows, do they seem to be in order?\n",
        "- Does the dataset have the correct number of rows and columns as described in the UCI page? \n",
        " - Remember, that UCI does not count the y variable (column of values that we might want to predict via a machine learning model) as an \"attribute\" but rather as a \"class attribute\" so you may end up seeing a number of columns that is one greater than the number listed on the UCI website.\n",
        "- Does UCI list this dataset as having missing values? Check for missing values and see if your analysis corroborates what UCI reports?\n",
        "- if `NaN` values or other missing value indicators are not being detected by `df.isnull().sum()` find a way to replace whatever is indicating the missing values with `np.NaN`.\n",
        "- Use the .describe() function in order to see the summary statistics of both the numeric and non-numeric columns. "
      ]
    },
    {
      "cell_type": "code",
      "metadata": {
        "id": "NJdISe69ZT7E",
        "colab_type": "code",
        "colab": {
          "base_uri": "https://localhost:8080/",
          "height": 1000
        },
        "outputId": "cc35603f-f832-4a9f-c63b-1d90a2e2a3ce"
      },
      "source": [
        "# TODO your work here!\n",
        "# And note you should write comments, descriptions, and add new\n",
        "# code and text blocks as needed\n",
        "ecoli_data_url = 'https://archive.ics.uci.edu/ml/machine-learning-databases/ecoli/ecoli.data'\n",
        "!curl https://archive.ics.uci.edu/ml/machine-learning-databases/ecoli/ecoli.data #space separated\n",
        "import pandas as pd\n",
        "headings=['Sequence Name', 'mcg', 'gvh', 'lip', 'chg', 'aac', 'alm1', 'alm2', 'capability indice']\n",
        "\n",
        "df = pd.read_csv(ecoli_data_url, delim_whitespace= True, names=headings) #Loaded from URL\n",
        "\n",
        "\n"
      ],
      "execution_count": 90,
      "outputs": [
        {
          "output_type": "stream",
          "text": [
            "AAT_ECOLI   0.49  0.29  0.48  0.50  0.56  0.24  0.35   cp\n",
            "ACEA_ECOLI  0.07  0.40  0.48  0.50  0.54  0.35  0.44   cp\n",
            "ACEK_ECOLI  0.56  0.40  0.48  0.50  0.49  0.37  0.46   cp\n",
            "ACKA_ECOLI  0.59  0.49  0.48  0.50  0.52  0.45  0.36   cp\n",
            "ADI_ECOLI   0.23  0.32  0.48  0.50  0.55  0.25  0.35   cp\n",
            "ALKH_ECOLI  0.67  0.39  0.48  0.50  0.36  0.38  0.46   cp\n",
            "AMPD_ECOLI  0.29  0.28  0.48  0.50  0.44  0.23  0.34   cp\n",
            "AMY2_ECOLI  0.21  0.34  0.48  0.50  0.51  0.28  0.39   cp\n",
            "APT_ECOLI   0.20  0.44  0.48  0.50  0.46  0.51  0.57   cp\n",
            "ARAC_ECOLI  0.42  0.40  0.48  0.50  0.56  0.18  0.30   cp\n",
            "ASG1_ECOLI  0.42  0.24  0.48  0.50  0.57  0.27  0.37   cp\n",
            "BTUR_ECOLI  0.25  0.48  0.48  0.50  0.44  0.17  0.29   cp\n",
            "CAFA_ECOLI  0.39  0.32  0.48  0.50  0.46  0.24  0.35   cp\n",
            "CAIB_ECOLI  0.51  0.50  0.48  0.50  0.46  0.32  0.35   cp\n",
            "CFA_ECOLI   0.22  0.43  0.48  0.50  0.48  0.16  0.28   cp\n",
            "CHEA_ECOLI  0.25  0.40  0.48  0.50  0.46  0.44  0.52   cp\n",
            "CHEB_ECOLI  0.34  0.45  0.48  0.50  0.38  0.24  0.35   cp\n",
            "CHEW_ECOLI  0.44  0.27  0.48  0.50  0.55  0.52  0.58   cp\n",
            "CHEY_ECOLI  0.23  0.40  0.48  0.50  0.39  0.28  0.38   cp\n",
            "CHEZ_ECOLI  0.41  0.57  0.48  0.50  0.39  0.21  0.32   cp\n",
            "CRL_ECOLI   0.40  0.45  0.48  0.50  0.38  0.22  0.00   cp\n",
            "CSPA_ECOLI  0.31  0.23  0.48  0.50  0.73  0.05  0.14   cp\n",
            "CYNR_ECOLI  0.51  0.54  0.48  0.50  0.41  0.34  0.43   cp\n",
            "CYPB_ECOLI  0.30  0.16  0.48  0.50  0.56  0.11  0.23   cp\n",
            "CYPC_ECOLI  0.36  0.39  0.48  0.50  0.48  0.22  0.23   cp\n",
            "CYSB_ECOLI  0.29  0.37  0.48  0.50  0.48  0.44  0.52   cp\n",
            "CYSE_ECOLI  0.25  0.40  0.48  0.50  0.47  0.33  0.42   cp\n",
            "DAPD_ECOLI  0.21  0.51  0.48  0.50  0.50  0.32  0.41   cp\n",
            "DCP_ECOLI   0.43  0.37  0.48  0.50  0.53  0.35  0.44   cp\n",
            "DDLA_ECOLI  0.43  0.39  0.48  0.50  0.47  0.31  0.41   cp\n",
            "DDLB_ECOLI  0.53  0.38  0.48  0.50  0.44  0.26  0.36   cp\n",
            "DEOC_ECOLI  0.34  0.33  0.48  0.50  0.38  0.35  0.44   cp\n",
            "DLDH_ECOLI  0.56  0.51  0.48  0.50  0.34  0.37  0.46   cp\n",
            "EFG_ECOLI   0.40  0.29  0.48  0.50  0.42  0.35  0.44   cp\n",
            "EFTS_ECOLI  0.24  0.35  0.48  0.50  0.31  0.19  0.31   cp\n",
            "EFTU_ECOLI  0.36  0.54  0.48  0.50  0.41  0.38  0.46   cp\n",
            "ENO_ECOLI   0.29  0.52  0.48  0.50  0.42  0.29  0.39   cp\n",
            "FABB_ECOLI  0.65  0.47  0.48  0.50  0.59  0.30  0.40   cp\n",
            "FES_ECOLI   0.32  0.42  0.48  0.50  0.35  0.28  0.38   cp\n",
            "G3P1_ECOLI  0.38  0.46  0.48  0.50  0.48  0.22  0.29   cp\n",
            "G3P2_ECOLI  0.33  0.45  0.48  0.50  0.52  0.32  0.41   cp\n",
            "G6PI_ECOLI  0.30  0.37  0.48  0.50  0.59  0.41  0.49   cp\n",
            "GCVA_ECOLI  0.40  0.50  0.48  0.50  0.45  0.39  0.47   cp\n",
            "GLNA_ECOLI  0.28  0.38  0.48  0.50  0.50  0.33  0.42   cp\n",
            "GLPD_ECOLI  0.61  0.45  0.48  0.50  0.48  0.35  0.41   cp\n",
            "GLYA_ECOLI  0.17  0.38  0.48  0.50  0.45  0.42  0.50   cp\n",
            "GSHR_ECOLI  0.44  0.35  0.48  0.50  0.55  0.55  0.61   cp\n",
            "GT_ECOLI    0.43  0.40  0.48  0.50  0.39  0.28  0.39   cp\n",
            "HEM6_ECOLI  0.42  0.35  0.48  0.50  0.58  0.15  0.27   cp\n",
            "HEMN_ECOLI  0.23  0.33  0.48  0.50  0.43  0.33  0.43   cp\n",
            "HPRT_ECOLI  0.37  0.52  0.48  0.50  0.42  0.42  0.36   cp\n",
            "IF1_ECOLI   0.29  0.30  0.48  0.50  0.45  0.03  0.17   cp\n",
            "IF2_ECOLI   0.22  0.36  0.48  0.50  0.35  0.39  0.47   cp\n",
            "ILVY_ECOLI  0.23  0.58  0.48  0.50  0.37  0.53  0.59   cp\n",
            "IPYR_ECOLI  0.47  0.47  0.48  0.50  0.22  0.16  0.26   cp\n",
            "KAD_ECOLI   0.54  0.47  0.48  0.50  0.28  0.33  0.42   cp\n",
            "KDSA_ECOLI  0.51  0.37  0.48  0.50  0.35  0.36  0.45   cp\n",
            "LEU3_ECOLI  0.40  0.35  0.48  0.50  0.45  0.33  0.42   cp\n",
            "LON_ECOLI   0.44  0.34  0.48  0.50  0.30  0.33  0.43   cp\n",
            "LPLA_ECOLI  0.42  0.38  0.48  0.50  0.54  0.34  0.43   cp\n",
            "LYSR_ECOLI  0.44  0.56  0.48  0.50  0.50  0.46  0.54   cp\n",
            "MALQ_ECOLI  0.52  0.36  0.48  0.50  0.41  0.28  0.38   cp\n",
            "MALZ_ECOLI  0.36  0.41  0.48  0.50  0.48  0.47  0.54   cp\n",
            "MASY_ECOLI  0.18  0.30  0.48  0.50  0.46  0.24  0.35   cp\n",
            "METB_ECOLI  0.47  0.29  0.48  0.50  0.51  0.33  0.43   cp\n",
            "METC_ECOLI  0.24  0.43  0.48  0.50  0.54  0.52  0.59   cp\n",
            "METK_ECOLI  0.25  0.37  0.48  0.50  0.41  0.33  0.42   cp\n",
            "METR_ECOLI  0.52  0.57  0.48  0.50  0.42  0.47  0.54   cp\n",
            "METX_ECOLI  0.25  0.37  0.48  0.50  0.43  0.26  0.36   cp\n",
            "MURF_ECOLI  0.35  0.48  0.48  0.50  0.56  0.40  0.48   cp\n",
            "NADA_ECOLI  0.26  0.26  0.48  0.50  0.34  0.25  0.35   cp\n",
            "NFRC_ECOLI  0.44  0.51  0.48  0.50  0.47  0.26  0.36   cp\n",
            "NHAR_ECOLI  0.37  0.50  0.48  0.50  0.42  0.36  0.45   cp\n",
            "NIRD_ECOLI  0.44  0.42  0.48  0.50  0.42  0.25  0.20   cp\n",
            "OMPR_ECOLI  0.24  0.43  0.48  0.50  0.37  0.28  0.38   cp\n",
            "OTC1_ECOLI  0.42  0.30  0.48  0.50  0.48  0.26  0.36   cp\n",
            "OTC2_ECOLI  0.48  0.42  0.48  0.50  0.45  0.25  0.35   cp\n",
            "PEPE_ECOLI  0.41  0.48  0.48  0.50  0.51  0.44  0.51   cp\n",
            "PFLA_ECOLI  0.44  0.28  0.48  0.50  0.43  0.27  0.37   cp\n",
            "PFLB_ECOLI  0.29  0.41  0.48  0.50  0.48  0.38  0.46   cp\n",
            "PGK_ECOLI   0.34  0.28  0.48  0.50  0.41  0.35  0.44   cp\n",
            "PHOB_ECOLI  0.41  0.43  0.48  0.50  0.45  0.31  0.41   cp\n",
            "PHOH_ECOLI  0.29  0.47  0.48  0.50  0.41  0.23  0.34   cp\n",
            "PMBA_ECOLI  0.34  0.55  0.48  0.50  0.58  0.31  0.41   cp\n",
            "PNP_ECOLI   0.36  0.56  0.48  0.50  0.43  0.45  0.53   cp\n",
            "PROB_ECOLI  0.40  0.46  0.48  0.50  0.52  0.49  0.56   cp\n",
            "PT1A_ECOLI  0.50  0.49  0.48  0.50  0.49  0.46  0.53   cp\n",
            "PT1_ECOLI   0.52  0.44  0.48  0.50  0.37  0.36  0.42   cp\n",
            "PTCA_ECOLI  0.50  0.51  0.48  0.50  0.27  0.23  0.34   cp\n",
            "PTCB_ECOLI  0.53  0.42  0.48  0.50  0.16  0.29  0.39   cp\n",
            "PTFA_ECOLI  0.34  0.46  0.48  0.50  0.52  0.35  0.44   cp\n",
            "PTGA_ECOLI  0.40  0.42  0.48  0.50  0.37  0.27  0.27   cp\n",
            "PTHA_ECOLI  0.41  0.43  0.48  0.50  0.50  0.24  0.25   cp\n",
            "PTHP_ECOLI  0.30  0.45  0.48  0.50  0.36  0.21  0.32   cp\n",
            "PTKA_ECOLI  0.31  0.47  0.48  0.50  0.29  0.28  0.39   cp\n",
            "PTKB_ECOLI  0.64  0.76  0.48  0.50  0.45  0.35  0.38   cp\n",
            "PTNA_ECOLI  0.35  0.37  0.48  0.50  0.30  0.34  0.43   cp\n",
            "PTWB_ECOLI  0.57  0.54  0.48  0.50  0.37  0.28  0.33   cp\n",
            "PTWX_ECOLI  0.65  0.55  0.48  0.50  0.34  0.37  0.28   cp\n",
            "RHAR_ECOLI  0.51  0.46  0.48  0.50  0.58  0.31  0.41   cp\n",
            "RHAS_ECOLI  0.38  0.40  0.48  0.50  0.63  0.25  0.35   cp\n",
            "RIMI_ECOLI  0.24  0.57  0.48  0.50  0.63  0.34  0.43   cp\n",
            "RIMJ_ECOLI  0.38  0.26  0.48  0.50  0.54  0.16  0.28   cp\n",
            "RIML_ECOLI  0.33  0.47  0.48  0.50  0.53  0.18  0.29   cp\n",
            "RNB_ECOLI   0.24  0.34  0.48  0.50  0.38  0.30  0.40   cp\n",
            "RNC_ECOLI   0.26  0.50  0.48  0.50  0.44  0.32  0.41   cp\n",
            "RND_ECOLI   0.44  0.49  0.48  0.50  0.39  0.38  0.40   cp\n",
            "RNE_ECOLI   0.43  0.32  0.48  0.50  0.33  0.45  0.52   cp\n",
            "SERC_ECOLI  0.49  0.43  0.48  0.50  0.49  0.30  0.40   cp\n",
            "SLYD_ECOLI  0.47  0.28  0.48  0.50  0.56  0.20  0.25   cp\n",
            "SOXS_ECOLI  0.32  0.33  0.48  0.50  0.60  0.06  0.20   cp\n",
            "SYA_ECOLI   0.34  0.35  0.48  0.50  0.51  0.49  0.56   cp\n",
            "SYC_ECOLI   0.35  0.34  0.48  0.50  0.46  0.30  0.27   cp\n",
            "SYD_ECOLI   0.38  0.30  0.48  0.50  0.43  0.29  0.39   cp\n",
            "SYE_ECOLI   0.38  0.44  0.48  0.50  0.43  0.20  0.31   cp\n",
            "SYFA_ECOLI  0.41  0.51  0.48  0.50  0.58  0.20  0.31   cp\n",
            "SYFB_ECOLI  0.34  0.42  0.48  0.50  0.41  0.34  0.43   cp\n",
            "SYGA_ECOLI  0.51  0.49  0.48  0.50  0.53  0.14  0.26   cp\n",
            "SYGB_ECOLI  0.25  0.51  0.48  0.50  0.37  0.42  0.50   cp\n",
            "SYH_ECOLI   0.29  0.28  0.48  0.50  0.50  0.42  0.50   cp\n",
            "SYI_ECOLI   0.25  0.26  0.48  0.50  0.39  0.32  0.42   cp\n",
            "SYK1_ECOLI  0.24  0.41  0.48  0.50  0.49  0.23  0.34   cp\n",
            "SYK2_ECOLI  0.17  0.39  0.48  0.50  0.53  0.30  0.39   cp\n",
            "SYL_ECOLI   0.04  0.31  0.48  0.50  0.41  0.29  0.39   cp\n",
            "SYM_ECOLI   0.61  0.36  0.48  0.50  0.49  0.35  0.44   cp\n",
            "SYP_ECOLI   0.34  0.51  0.48  0.50  0.44  0.37  0.46   cp\n",
            "SYQ_ECOLI   0.28  0.33  0.48  0.50  0.45  0.22  0.33   cp\n",
            "SYR_ECOLI   0.40  0.46  0.48  0.50  0.42  0.35  0.44   cp\n",
            "SYS_ECOLI   0.23  0.34  0.48  0.50  0.43  0.26  0.37   cp\n",
            "SYT_ECOLI   0.37  0.44  0.48  0.50  0.42  0.39  0.47   cp\n",
            "SYV_ECOLI   0.00  0.38  0.48  0.50  0.42  0.48  0.55   cp\n",
            "SYW_ECOLI   0.39  0.31  0.48  0.50  0.38  0.34  0.43   cp\n",
            "SYY_ECOLI   0.30  0.44  0.48  0.50  0.49  0.22  0.33   cp\n",
            "THGA_ECOLI  0.27  0.30  0.48  0.50  0.71  0.28  0.39   cp\n",
            "THIK_ECOLI  0.17  0.52  0.48  0.50  0.49  0.37  0.46   cp\n",
            "TYRB_ECOLI  0.36  0.42  0.48  0.50  0.53  0.32  0.41   cp\n",
            "UBIC_ECOLI  0.30  0.37  0.48  0.50  0.43  0.18  0.30   cp\n",
            "UGPQ_ECOLI  0.26  0.40  0.48  0.50  0.36  0.26  0.37   cp\n",
            "USPA_ECOLI  0.40  0.41  0.48  0.50  0.55  0.22  0.33   cp\n",
            "UVRB_ECOLI  0.22  0.34  0.48  0.50  0.42  0.29  0.39   cp\n",
            "UVRC_ECOLI  0.44  0.35  0.48  0.50  0.44  0.52  0.59   cp\n",
            "XGPT_ECOLI  0.27  0.42  0.48  0.50  0.37  0.38  0.43   cp\n",
            "XYLA_ECOLI  0.16  0.43  0.48  0.50  0.54  0.27  0.37   cp\n",
            "EMRA_ECOLI  0.06  0.61  0.48  0.50  0.49  0.92  0.37   im\n",
            "AAS_ECOLI   0.44  0.52  0.48  0.50  0.43  0.47  0.54   im\n",
            "AMPE_ECOLI  0.63  0.47  0.48  0.50  0.51  0.82  0.84   im\n",
            "ARAE_ECOLI  0.23  0.48  0.48  0.50  0.59  0.88  0.89   im\n",
            "ARAH_ECOLI  0.34  0.49  0.48  0.50  0.58  0.85  0.80   im\n",
            "AROP_ECOLI  0.43  0.40  0.48  0.50  0.58  0.75  0.78   im\n",
            "ATKB_ECOLI  0.46  0.61  0.48  0.50  0.48  0.86  0.87   im\n",
            "ATP6_ECOLI  0.27  0.35  0.48  0.50  0.51  0.77  0.79   im\n",
            "BETT_ECOLI  0.52  0.39  0.48  0.50  0.65  0.71  0.73   im\n",
            "CODB_ECOLI  0.29  0.47  0.48  0.50  0.71  0.65  0.69   im\n",
            "CYDA_ECOLI  0.55  0.47  0.48  0.50  0.57  0.78  0.80   im\n",
            "CYOC_ECOLI  0.12  0.67  0.48  0.50  0.74  0.58  0.63   im\n",
            "CYOD_ECOLI  0.40  0.50  0.48  0.50  0.65  0.82  0.84   im\n",
            "DCTA_ECOLI  0.73  0.36  0.48  0.50  0.53  0.91  0.92   im\n",
            "DHG_ECOLI   0.84  0.44  0.48  0.50  0.48  0.71  0.74   im\n",
            "DHSC_ECOLI  0.48  0.45  0.48  0.50  0.60  0.78  0.80   im\n",
            "DHSD_ECOLI  0.54  0.49  0.48  0.50  0.40  0.87  0.88   im\n",
            "DPPC_ECOLI  0.48  0.41  0.48  0.50  0.51  0.90  0.88   im\n",
            "DSBB_ECOLI  0.50  0.66  0.48  0.50  0.31  0.92  0.92   im\n",
            "ENVZ_ECOLI  0.72  0.46  0.48  0.50  0.51  0.66  0.70   im\n",
            "EXBB_ECOLI  0.47  0.55  0.48  0.50  0.58  0.71  0.75   im\n",
            "FRDC_ECOLI  0.33  0.56  0.48  0.50  0.33  0.78  0.80   im\n",
            "FRDD_ECOLI  0.64  0.58  0.48  0.50  0.48  0.78  0.73   im\n",
            "FTSW_ECOLI  0.54  0.57  0.48  0.50  0.56  0.81  0.83   im\n",
            "GABP_ECOLI  0.47  0.59  0.48  0.50  0.52  0.76  0.79   im\n",
            "GALP_ECOLI  0.63  0.50  0.48  0.50  0.59  0.85  0.86   im\n",
            "GLNP_ECOLI  0.49  0.42  0.48  0.50  0.53  0.79  0.81   im\n",
            "GLPT_ECOLI  0.31  0.50  0.48  0.50  0.57  0.84  0.85   im\n",
            "GLTP_ECOLI  0.74  0.44  0.48  0.50  0.55  0.88  0.89   im\n",
            "KDGL_ECOLI  0.33  0.45  0.48  0.50  0.45  0.88  0.89   im\n",
            "KGTP_ECOLI  0.45  0.40  0.48  0.50  0.61  0.74  0.77   im\n",
            "LACY_ECOLI  0.71  0.40  0.48  0.50  0.71  0.70  0.74   im\n",
            "LGT_ECOLI   0.50  0.37  0.48  0.50  0.66  0.64  0.69   im\n",
            "LLDP_ECOLI  0.66  0.53  0.48  0.50  0.59  0.66  0.66   im\n",
            "LNT_ECOLI   0.60  0.61  0.48  0.50  0.54  0.67  0.71   im\n",
            "LSPA_ECOLI  0.83  0.37  0.48  0.50  0.61  0.71  0.74   im\n",
            "LYSP_ECOLI  0.34  0.51  0.48  0.50  0.67  0.90  0.90   im\n",
            "MALF_ECOLI  0.63  0.54  0.48  0.50  0.65  0.79  0.81   im\n",
            "MALG_ECOLI  0.70  0.40  0.48  0.50  0.56  0.86  0.83   im\n",
            "MCP3_ECOLI  0.60  0.50  1.00  0.50  0.54  0.77  0.80   im\n",
            "MSBB_ECOLI  0.16  0.51  0.48  0.50  0.33  0.39  0.48   im\n",
            "MTR_ECOLI   0.74  0.70  0.48  0.50  0.66  0.65  0.69   im\n",
            "NANT_ECOLI  0.20  0.46  0.48  0.50  0.57  0.78  0.81   im\n",
            "NHAA_ECOLI  0.89  0.55  0.48  0.50  0.51  0.72  0.76   im\n",
            "NHAB_ECOLI  0.70  0.46  0.48  0.50  0.56  0.78  0.73   im\n",
            "PHEP_ECOLI  0.12  0.43  0.48  0.50  0.63  0.70  0.74   im\n",
            "PHOR_ECOLI  0.61  0.52  0.48  0.50  0.54  0.67  0.52   im\n",
            "PNTA_ECOLI  0.33  0.37  0.48  0.50  0.46  0.65  0.69   im\n",
            "POTE_ECOLI  0.63  0.65  0.48  0.50  0.66  0.67  0.71   im\n",
            "PROP_ECOLI  0.41  0.51  0.48  0.50  0.53  0.75  0.78   im\n",
            "PSTA_ECOLI  0.34  0.67  0.48  0.50  0.52  0.76  0.79   im\n",
            "PSTC_ECOLI  0.58  0.34  0.48  0.50  0.56  0.87  0.81   im\n",
            "PTAA_ECOLI  0.59  0.56  0.48  0.50  0.55  0.80  0.82   im\n",
            "PTBA_ECOLI  0.51  0.40  0.48  0.50  0.57  0.62  0.67   im\n",
            "PTCC_ECOLI  0.50  0.57  0.48  0.50  0.71  0.61  0.66   im\n",
            "PTDA_ECOLI  0.60  0.46  0.48  0.50  0.45  0.81  0.83   im\n",
            "PTFB_ECOLI  0.37  0.47  0.48  0.50  0.39  0.76  0.79   im\n",
            "PTGB_ECOLI  0.58  0.55  0.48  0.50  0.57  0.70  0.74   im\n",
            "PTHB_ECOLI  0.36  0.47  0.48  0.50  0.51  0.69  0.72   im\n",
            "PTMA_ECOLI  0.39  0.41  0.48  0.50  0.52  0.72  0.75   im\n",
            "PTOA_ECOLI  0.35  0.51  0.48  0.50  0.61  0.71  0.74   im\n",
            "PTTB_ECOLI  0.31  0.44  0.48  0.50  0.50  0.79  0.82   im\n",
            "RODA_ECOLI  0.61  0.66  0.48  0.50  0.46  0.87  0.88   im\n",
            "SECE_ECOLI  0.48  0.49  0.48  0.50  0.52  0.77  0.71   im\n",
            "SECF_ECOLI  0.11  0.50  0.48  0.50  0.58  0.72  0.68   im\n",
            "SECY_ECOLI  0.31  0.36  0.48  0.50  0.58  0.94  0.94   im\n",
            "TNAB_ECOLI  0.68  0.51  0.48  0.50  0.71  0.75  0.78   im\n",
            "XYLE_ECOLI  0.69  0.39  0.48  0.50  0.57  0.76  0.79   im\n",
            "YCEE_ECOLI  0.52  0.54  0.48  0.50  0.62  0.76  0.79   im\n",
            "EXBD_ECOLI  0.46  0.59  0.48  0.50  0.36  0.76  0.23   im\n",
            "FTSL_ECOLI  0.36  0.45  0.48  0.50  0.38  0.79  0.17   im\n",
            "FTSN_ECOLI  0.00  0.51  0.48  0.50  0.35  0.67  0.44   im\n",
            "FTSQ_ECOLI  0.10  0.49  0.48  0.50  0.41  0.67  0.21   im\n",
            "MOTB_ECOLI  0.30  0.51  0.48  0.50  0.42  0.61  0.34   im\n",
            "TOLA_ECOLI  0.61  0.47  0.48  0.50  0.00  0.80  0.32   im\n",
            "TOLQ_ECOLI  0.63  0.75  0.48  0.50  0.64  0.73  0.66   im\n",
            "EMRB_ECOLI  0.71  0.52  0.48  0.50  0.64  1.00  0.99   im\n",
            "ATKC_ECOLI  0.85  0.53  0.48  0.50  0.53  0.52  0.35  imS\n",
            "NFRB_ECOLI  0.63  0.49  0.48  0.50  0.54  0.76  0.79  imS\n",
            "NLPA_ECOLI  0.75  0.55  1.00  1.00  0.40  0.47  0.30  imL\n",
            "CYOA_ECOLI  0.70  0.39  1.00  0.50  0.51  0.82  0.84  imL\n",
            "ATKA_ECOLI  0.72  0.42  0.48  0.50  0.65  0.77  0.79  imU\n",
            "BCR_ECOLI   0.79  0.41  0.48  0.50  0.66  0.81  0.83  imU\n",
            "CADB_ECOLI  0.83  0.48  0.48  0.50  0.65  0.76  0.79  imU\n",
            "CAIT_ECOLI  0.69  0.43  0.48  0.50  0.59  0.74  0.77  imU\n",
            "CPXA_ECOLI  0.79  0.36  0.48  0.50  0.46  0.82  0.70  imU\n",
            "CRED_ECOLI  0.78  0.33  0.48  0.50  0.57  0.77  0.79  imU\n",
            "CYDB_ECOLI  0.75  0.37  0.48  0.50  0.64  0.70  0.74  imU\n",
            "CYOB_ECOLI  0.59  0.29  0.48  0.50  0.64  0.75  0.77  imU\n",
            "CYOE_ECOLI  0.67  0.37  0.48  0.50  0.54  0.64  0.68  imU\n",
            "DMSC_ECOLI  0.66  0.48  0.48  0.50  0.54  0.70  0.74  imU\n",
            "DPPB_ECOLI  0.64  0.46  0.48  0.50  0.48  0.73  0.76  imU\n",
            "DSBD_ECOLI  0.76  0.71  0.48  0.50  0.50  0.71  0.75  imU\n",
            "FEPD_ECOLI  0.84  0.49  0.48  0.50  0.55  0.78  0.74  imU\n",
            "FEPG_ECOLI  0.77  0.55  0.48  0.50  0.51  0.78  0.74  imU\n",
            "FTSH_ECOLI  0.81  0.44  0.48  0.50  0.42  0.67  0.68  imU\n",
            "GLTS_ECOLI  0.58  0.60  0.48  0.50  0.59  0.73  0.76  imU\n",
            "KEFC_ECOLI  0.63  0.42  0.48  0.50  0.48  0.77  0.80  imU\n",
            "KUP_ECOLI   0.62  0.42  0.48  0.50  0.58  0.79  0.81  imU\n",
            "MCP1_ECOLI  0.86  0.39  0.48  0.50  0.59  0.89  0.90  imU\n",
            "MCP2_ECOLI  0.81  0.53  0.48  0.50  0.57  0.87  0.88  imU\n",
            "MCP4_ECOLI  0.87  0.49  0.48  0.50  0.61  0.76  0.79  imU\n",
            "MELB_ECOLI  0.47  0.46  0.48  0.50  0.62  0.74  0.77  imU\n",
            "MOTA_ECOLI  0.76  0.41  0.48  0.50  0.50  0.59  0.62  imU\n",
            "NUPC_ECOLI  0.70  0.53  0.48  0.50  0.70  0.86  0.87  imU\n",
            "NUPG_ECOLI  0.64  0.45  0.48  0.50  0.67  0.61  0.66  imU\n",
            "PNTB_ECOLI  0.81  0.52  0.48  0.50  0.57  0.78  0.80  imU\n",
            "PTKC_ECOLI  0.73  0.26  0.48  0.50  0.57  0.75  0.78  imU\n",
            "RHAT_ECOLI  0.49  0.61  1.00  0.50  0.56  0.71  0.74  imU\n",
            "SECD_ECOLI  0.88  0.42  0.48  0.50  0.52  0.73  0.75  imU\n",
            "SECG_ECOLI  0.84  0.54  0.48  0.50  0.75  0.92  0.70  imU\n",
            "TEHA_ECOLI  0.63  0.51  0.48  0.50  0.64  0.72  0.76  imU\n",
            "TYRP_ECOLI  0.86  0.55  0.48  0.50  0.63  0.81  0.83  imU\n",
            "UHPB_ECOLI  0.79  0.54  0.48  0.50  0.50  0.66  0.68  imU\n",
            "TONB_ECOLI  0.57  0.38  0.48  0.50  0.06  0.49  0.33  imU\n",
            "LEP_ECOLI   0.78  0.44  0.48  0.50  0.45  0.73  0.68  imU\n",
            "FADL_ECOLI  0.78  0.68  0.48  0.50  0.83  0.40  0.29   om\n",
            "FHUA_ECOLI  0.63  0.69  0.48  0.50  0.65  0.41  0.28   om\n",
            "LAMB_ECOLI  0.67  0.88  0.48  0.50  0.73  0.50  0.25   om\n",
            "NFRA_ECOLI  0.61  0.75  0.48  0.50  0.51  0.33  0.33   om\n",
            "NMPC_ECOLI  0.67  0.84  0.48  0.50  0.74  0.54  0.37   om\n",
            "OMPA_ECOLI  0.74  0.90  0.48  0.50  0.57  0.53  0.29   om\n",
            "OMPC_ECOLI  0.73  0.84  0.48  0.50  0.86  0.58  0.29   om\n",
            "OMPF_ECOLI  0.75  0.76  0.48  0.50  0.83  0.57  0.30   om\n",
            "OMPX_ECOLI  0.77  0.57  0.48  0.50  0.88  0.53  0.20   om\n",
            "PHOE_ECOLI  0.74  0.78  0.48  0.50  0.75  0.54  0.15   om\n",
            "TSX_ECOLI   0.68  0.76  0.48  0.50  0.84  0.45  0.27   om\n",
            "BTUB_ECOLI  0.56  0.68  0.48  0.50  0.77  0.36  0.45   om\n",
            "CIRA_ECOLI  0.65  0.51  0.48  0.50  0.66  0.54  0.33   om\n",
            "FECA_ECOLI  0.52  0.81  0.48  0.50  0.72  0.38  0.38   om\n",
            "FEPA_ECOLI  0.64  0.57  0.48  0.50  0.70  0.33  0.26   om\n",
            "FHUE_ECOLI  0.60  0.76  1.00  0.50  0.77  0.59  0.52   om\n",
            "OMPP_ECOLI  0.69  0.59  0.48  0.50  0.77  0.39  0.21   om\n",
            "OMPT_ECOLI  0.63  0.49  0.48  0.50  0.79  0.45  0.28   om\n",
            "TOLC_ECOLI  0.71  0.71  0.48  0.50  0.68  0.43  0.36   om\n",
            "PA1_ECOLI   0.68  0.63  0.48  0.50  0.73  0.40  0.30   om\n",
            "MULI_ECOLI  0.77  0.57  1.00  0.50  0.37  0.54  0.01  omL\n",
            "NLPB_ECOLI  0.66  0.49  1.00  0.50  0.54  0.56  0.36  omL\n",
            "NLPE_ECOLI  0.71  0.46  1.00  0.50  0.52  0.59  0.30  omL\n",
            "PAL_ECOLI   0.67  0.55  1.00  0.50  0.66  0.58  0.16  omL\n",
            "SLP_ECOLI   0.68  0.49  1.00  0.50  0.62  0.55  0.28  omL\n",
            "AGP_ECOLI   0.74  0.49  0.48  0.50  0.42  0.54  0.36   pp\n",
            "AMY1_ECOLI  0.70  0.61  0.48  0.50  0.56  0.52  0.43   pp\n",
            "ARAF_ECOLI  0.66  0.86  0.48  0.50  0.34  0.41  0.36   pp\n",
            "ASG2_ECOLI  0.73  0.78  0.48  0.50  0.58  0.51  0.31   pp\n",
            "BGLX_ECOLI  0.65  0.57  0.48  0.50  0.47  0.47  0.51   pp\n",
            "C562_ECOLI  0.72  0.86  0.48  0.50  0.17  0.55  0.21   pp\n",
            "CN16_ECOLI  0.67  0.70  0.48  0.50  0.46  0.45  0.33   pp\n",
            "CYPH_ECOLI  0.67  0.81  0.48  0.50  0.54  0.49  0.23   pp\n",
            "CYSP_ECOLI  0.67  0.61  0.48  0.50  0.51  0.37  0.38   pp\n",
            "DGAL_ECOLI  0.63  1.00  0.48  0.50  0.35  0.51  0.49   pp\n",
            "DPPA_ECOLI  0.57  0.59  0.48  0.50  0.39  0.47  0.33   pp\n",
            "DSBA_ECOLI  0.71  0.71  0.48  0.50  0.40  0.54  0.39   pp\n",
            "DSBC_ECOLI  0.66  0.74  0.48  0.50  0.31  0.38  0.43   pp\n",
            "ECOT_ECOLI  0.67  0.81  0.48  0.50  0.25  0.42  0.25   pp\n",
            "ECPD_ECOLI  0.64  0.72  0.48  0.50  0.49  0.42  0.19   pp\n",
            "FECB_ECOLI  0.68  0.82  0.48  0.50  0.38  0.65  0.56   pp\n",
            "FECR_ECOLI  0.32  0.39  0.48  0.50  0.53  0.28  0.38   pp\n",
            "FEPB_ECOLI  0.70  0.64  0.48  0.50  0.47  0.51  0.47   pp\n",
            "FIMC_ECOLI  0.63  0.57  0.48  0.50  0.49  0.70  0.20   pp\n",
            "GGT_ECOLI   0.74  0.82  0.48  0.50  0.49  0.49  0.41   pp\n",
            "GLNH_ECOLI  0.63  0.86  0.48  0.50  0.39  0.47  0.34   pp\n",
            "GLPQ_ECOLI  0.63  0.83  0.48  0.50  0.40  0.39  0.19   pp\n",
            "HTRA_ECOLI  0.63  0.71  0.48  0.50  0.60  0.40  0.39   pp\n",
            "LIVJ_ECOLI  0.71  0.86  0.48  0.50  0.40  0.54  0.32   pp\n",
            "LIVK_ECOLI  0.68  0.78  0.48  0.50  0.43  0.44  0.42   pp\n",
            "MALE_ECOLI  0.64  0.84  0.48  0.50  0.37  0.45  0.40   pp\n",
            "MALM_ECOLI  0.74  0.47  0.48  0.50  0.50  0.57  0.42   pp\n",
            "MEPA_ECOLI  0.75  0.84  0.48  0.50  0.35  0.52  0.33   pp\n",
            "MODA_ECOLI  0.63  0.65  0.48  0.50  0.39  0.44  0.35   pp\n",
            "NRFA_ECOLI  0.69  0.67  0.48  0.50  0.30  0.39  0.24   pp\n",
            "NRFF_ECOLI  0.70  0.71  0.48  0.50  0.42  0.84  0.85   pp\n",
            "OPPA_ECOLI  0.69  0.80  0.48  0.50  0.46  0.57  0.26   pp\n",
            "OSMY_ECOLI  0.64  0.66  0.48  0.50  0.41  0.39  0.20   pp\n",
            "POTD_ECOLI  0.63  0.80  0.48  0.50  0.46  0.31  0.29   pp\n",
            "POTF_ECOLI  0.66  0.71  0.48  0.50  0.41  0.50  0.35   pp\n",
            "PPA_ECOLI   0.69  0.59  0.48  0.50  0.46  0.44  0.52   pp\n",
            "PPB_ECOLI   0.68  0.67  0.48  0.50  0.49  0.40  0.34   pp\n",
            "PROX_ECOLI  0.64  0.78  0.48  0.50  0.50  0.36  0.38   pp\n",
            "PSTS_ECOLI  0.62  0.78  0.48  0.50  0.47  0.49  0.54   pp\n",
            "PTR_ECOLI   0.76  0.73  0.48  0.50  0.44  0.39  0.39   pp\n",
            "RBSB_ECOLI  0.64  0.81  0.48  0.50  0.37  0.39  0.44   pp\n",
            "SPEA_ECOLI  0.29  0.39  0.48  0.50  0.52  0.40  0.48   pp\n",
            "SUBI_ECOLI  0.62  0.83  0.48  0.50  0.46  0.36  0.40   pp\n",
            "TBPA_ECOLI  0.56  0.54  0.48  0.50  0.43  0.37  0.30   pp\n",
            "TESA_ECOLI  0.69  0.66  0.48  0.50  0.41  0.50  0.25   pp\n",
            "TOLB_ECOLI  0.69  0.65  0.48  0.50  0.63  0.48  0.41   pp\n",
            "TORA_ECOLI  0.43  0.59  0.48  0.50  0.52  0.49  0.56   pp\n",
            "TREA_ECOLI  0.74  0.56  0.48  0.50  0.47  0.68  0.30   pp\n",
            "UGPB_ECOLI  0.71  0.57  0.48  0.50  0.48  0.35  0.32   pp\n",
            "USHA_ECOLI  0.61  0.60  0.48  0.50  0.44  0.39  0.38   pp\n",
            "XYLF_ECOLI  0.59  0.61  0.48  0.50  0.42  0.42  0.37   pp\n",
            "YTFQ_ECOLI  0.74  0.74  0.48  0.50  0.31  0.53  0.52   pp\n"
          ],
          "name": "stdout"
        }
      ]
    },
    {
      "cell_type": "code",
      "metadata": {
        "id": "nkGUlrsrsarG",
        "colab_type": "code",
        "colab": {
          "base_uri": "https://localhost:8080/",
          "height": 195
        },
        "outputId": "84a273f7-e155-4af1-b16e-1138ccd5f63d"
      },
      "source": [
        "df.head() #no proper headings, in order"
      ],
      "execution_count": 91,
      "outputs": [
        {
          "output_type": "execute_result",
          "data": {
            "text/html": [
              "<div>\n",
              "<style scoped>\n",
              "    .dataframe tbody tr th:only-of-type {\n",
              "        vertical-align: middle;\n",
              "    }\n",
              "\n",
              "    .dataframe tbody tr th {\n",
              "        vertical-align: top;\n",
              "    }\n",
              "\n",
              "    .dataframe thead th {\n",
              "        text-align: right;\n",
              "    }\n",
              "</style>\n",
              "<table border=\"1\" class=\"dataframe\">\n",
              "  <thead>\n",
              "    <tr style=\"text-align: right;\">\n",
              "      <th></th>\n",
              "      <th>Sequence Name</th>\n",
              "      <th>mcg</th>\n",
              "      <th>gvh</th>\n",
              "      <th>lip</th>\n",
              "      <th>chg</th>\n",
              "      <th>aac</th>\n",
              "      <th>alm1</th>\n",
              "      <th>alm2</th>\n",
              "      <th>capability indice</th>\n",
              "    </tr>\n",
              "  </thead>\n",
              "  <tbody>\n",
              "    <tr>\n",
              "      <th>0</th>\n",
              "      <td>AAT_ECOLI</td>\n",
              "      <td>0.49</td>\n",
              "      <td>0.29</td>\n",
              "      <td>0.48</td>\n",
              "      <td>0.5</td>\n",
              "      <td>0.56</td>\n",
              "      <td>0.24</td>\n",
              "      <td>0.35</td>\n",
              "      <td>cp</td>\n",
              "    </tr>\n",
              "    <tr>\n",
              "      <th>1</th>\n",
              "      <td>ACEA_ECOLI</td>\n",
              "      <td>0.07</td>\n",
              "      <td>0.40</td>\n",
              "      <td>0.48</td>\n",
              "      <td>0.5</td>\n",
              "      <td>0.54</td>\n",
              "      <td>0.35</td>\n",
              "      <td>0.44</td>\n",
              "      <td>cp</td>\n",
              "    </tr>\n",
              "    <tr>\n",
              "      <th>2</th>\n",
              "      <td>ACEK_ECOLI</td>\n",
              "      <td>0.56</td>\n",
              "      <td>0.40</td>\n",
              "      <td>0.48</td>\n",
              "      <td>0.5</td>\n",
              "      <td>0.49</td>\n",
              "      <td>0.37</td>\n",
              "      <td>0.46</td>\n",
              "      <td>cp</td>\n",
              "    </tr>\n",
              "    <tr>\n",
              "      <th>3</th>\n",
              "      <td>ACKA_ECOLI</td>\n",
              "      <td>0.59</td>\n",
              "      <td>0.49</td>\n",
              "      <td>0.48</td>\n",
              "      <td>0.5</td>\n",
              "      <td>0.52</td>\n",
              "      <td>0.45</td>\n",
              "      <td>0.36</td>\n",
              "      <td>cp</td>\n",
              "    </tr>\n",
              "    <tr>\n",
              "      <th>4</th>\n",
              "      <td>ADI_ECOLI</td>\n",
              "      <td>0.23</td>\n",
              "      <td>0.32</td>\n",
              "      <td>0.48</td>\n",
              "      <td>0.5</td>\n",
              "      <td>0.55</td>\n",
              "      <td>0.25</td>\n",
              "      <td>0.35</td>\n",
              "      <td>cp</td>\n",
              "    </tr>\n",
              "  </tbody>\n",
              "</table>\n",
              "</div>"
            ],
            "text/plain": [
              "  Sequence Name   mcg   gvh   lip  chg   aac  alm1  alm2 capability indice\n",
              "0     AAT_ECOLI  0.49  0.29  0.48  0.5  0.56  0.24  0.35                cp\n",
              "1    ACEA_ECOLI  0.07  0.40  0.48  0.5  0.54  0.35  0.44                cp\n",
              "2    ACEK_ECOLI  0.56  0.40  0.48  0.5  0.49  0.37  0.46                cp\n",
              "3    ACKA_ECOLI  0.59  0.49  0.48  0.5  0.52  0.45  0.36                cp\n",
              "4     ADI_ECOLI  0.23  0.32  0.48  0.5  0.55  0.25  0.35                cp"
            ]
          },
          "metadata": {
            "tags": []
          },
          "execution_count": 91
        }
      ]
    },
    {
      "cell_type": "code",
      "metadata": {
        "id": "xsnB217QLw2_",
        "colab_type": "code",
        "colab": {
          "base_uri": "https://localhost:8080/",
          "height": 195
        },
        "outputId": "3dd15b77-b073-421a-f739-744716e77382"
      },
      "source": [
        "df.tail()"
      ],
      "execution_count": 92,
      "outputs": [
        {
          "output_type": "execute_result",
          "data": {
            "text/html": [
              "<div>\n",
              "<style scoped>\n",
              "    .dataframe tbody tr th:only-of-type {\n",
              "        vertical-align: middle;\n",
              "    }\n",
              "\n",
              "    .dataframe tbody tr th {\n",
              "        vertical-align: top;\n",
              "    }\n",
              "\n",
              "    .dataframe thead th {\n",
              "        text-align: right;\n",
              "    }\n",
              "</style>\n",
              "<table border=\"1\" class=\"dataframe\">\n",
              "  <thead>\n",
              "    <tr style=\"text-align: right;\">\n",
              "      <th></th>\n",
              "      <th>Sequence Name</th>\n",
              "      <th>mcg</th>\n",
              "      <th>gvh</th>\n",
              "      <th>lip</th>\n",
              "      <th>chg</th>\n",
              "      <th>aac</th>\n",
              "      <th>alm1</th>\n",
              "      <th>alm2</th>\n",
              "      <th>capability indice</th>\n",
              "    </tr>\n",
              "  </thead>\n",
              "  <tbody>\n",
              "    <tr>\n",
              "      <th>331</th>\n",
              "      <td>TREA_ECOLI</td>\n",
              "      <td>0.74</td>\n",
              "      <td>0.56</td>\n",
              "      <td>0.48</td>\n",
              "      <td>0.5</td>\n",
              "      <td>0.47</td>\n",
              "      <td>0.68</td>\n",
              "      <td>0.30</td>\n",
              "      <td>pp</td>\n",
              "    </tr>\n",
              "    <tr>\n",
              "      <th>332</th>\n",
              "      <td>UGPB_ECOLI</td>\n",
              "      <td>0.71</td>\n",
              "      <td>0.57</td>\n",
              "      <td>0.48</td>\n",
              "      <td>0.5</td>\n",
              "      <td>0.48</td>\n",
              "      <td>0.35</td>\n",
              "      <td>0.32</td>\n",
              "      <td>pp</td>\n",
              "    </tr>\n",
              "    <tr>\n",
              "      <th>333</th>\n",
              "      <td>USHA_ECOLI</td>\n",
              "      <td>0.61</td>\n",
              "      <td>0.60</td>\n",
              "      <td>0.48</td>\n",
              "      <td>0.5</td>\n",
              "      <td>0.44</td>\n",
              "      <td>0.39</td>\n",
              "      <td>0.38</td>\n",
              "      <td>pp</td>\n",
              "    </tr>\n",
              "    <tr>\n",
              "      <th>334</th>\n",
              "      <td>XYLF_ECOLI</td>\n",
              "      <td>0.59</td>\n",
              "      <td>0.61</td>\n",
              "      <td>0.48</td>\n",
              "      <td>0.5</td>\n",
              "      <td>0.42</td>\n",
              "      <td>0.42</td>\n",
              "      <td>0.37</td>\n",
              "      <td>pp</td>\n",
              "    </tr>\n",
              "    <tr>\n",
              "      <th>335</th>\n",
              "      <td>YTFQ_ECOLI</td>\n",
              "      <td>0.74</td>\n",
              "      <td>0.74</td>\n",
              "      <td>0.48</td>\n",
              "      <td>0.5</td>\n",
              "      <td>0.31</td>\n",
              "      <td>0.53</td>\n",
              "      <td>0.52</td>\n",
              "      <td>pp</td>\n",
              "    </tr>\n",
              "  </tbody>\n",
              "</table>\n",
              "</div>"
            ],
            "text/plain": [
              "    Sequence Name   mcg   gvh   lip  chg   aac  alm1  alm2 capability indice\n",
              "331    TREA_ECOLI  0.74  0.56  0.48  0.5  0.47  0.68  0.30                pp\n",
              "332    UGPB_ECOLI  0.71  0.57  0.48  0.5  0.48  0.35  0.32                pp\n",
              "333    USHA_ECOLI  0.61  0.60  0.48  0.5  0.44  0.39  0.38                pp\n",
              "334    XYLF_ECOLI  0.59  0.61  0.48  0.5  0.42  0.42  0.37                pp\n",
              "335    YTFQ_ECOLI  0.74  0.74  0.48  0.5  0.31  0.53  0.52                pp"
            ]
          },
          "metadata": {
            "tags": []
          },
          "execution_count": 92
        }
      ]
    },
    {
      "cell_type": "code",
      "metadata": {
        "id": "0np9DZbitJ8G",
        "colab_type": "code",
        "colab": {
          "base_uri": "https://localhost:8080/",
          "height": 34
        },
        "outputId": "ffb6b1d0-36f2-423d-90f3-415f14d5bd06"
      },
      "source": [
        "df.shape # looks good\n"
      ],
      "execution_count": 88,
      "outputs": [
        {
          "output_type": "execute_result",
          "data": {
            "text/plain": [
              "(336, 9)"
            ]
          },
          "metadata": {
            "tags": []
          },
          "execution_count": 88
        }
      ]
    },
    {
      "cell_type": "code",
      "metadata": {
        "id": "BiWeE2I0MHKg",
        "colab_type": "code",
        "colab": {
          "base_uri": "https://localhost:8080/",
          "height": 286
        },
        "outputId": "21f23c2e-131a-4d38-999d-2d50f5e49a46"
      },
      "source": [
        "df.dtypes\n",
        "df.info() # looks like no missing values"
      ],
      "execution_count": 95,
      "outputs": [
        {
          "output_type": "stream",
          "text": [
            "<class 'pandas.core.frame.DataFrame'>\n",
            "RangeIndex: 336 entries, 0 to 335\n",
            "Data columns (total 9 columns):\n",
            " #   Column             Non-Null Count  Dtype  \n",
            "---  ------             --------------  -----  \n",
            " 0   Sequence Name      336 non-null    object \n",
            " 1   mcg                336 non-null    float64\n",
            " 2   gvh                336 non-null    float64\n",
            " 3   lip                336 non-null    float64\n",
            " 4   chg                336 non-null    float64\n",
            " 5   aac                336 non-null    float64\n",
            " 6   alm1               336 non-null    float64\n",
            " 7   alm2               336 non-null    float64\n",
            " 8   capability indice  336 non-null    object \n",
            "dtypes: float64(7), object(2)\n",
            "memory usage: 23.8+ KB\n"
          ],
          "name": "stdout"
        }
      ]
    },
    {
      "cell_type": "code",
      "metadata": {
        "id": "R2__5g_hMkDY",
        "colab_type": "code",
        "colab": {
          "base_uri": "https://localhost:8080/",
          "height": 185
        },
        "outputId": "7725ef74-bf05-4f78-e8fd-3b9b67f8d3f0"
      },
      "source": [
        "df.isnull().sum() #no missing values"
      ],
      "execution_count": 96,
      "outputs": [
        {
          "output_type": "execute_result",
          "data": {
            "text/plain": [
              "Sequence Name        0\n",
              "mcg                  0\n",
              "gvh                  0\n",
              "lip                  0\n",
              "chg                  0\n",
              "aac                  0\n",
              "alm1                 0\n",
              "alm2                 0\n",
              "capability indice    0\n",
              "dtype: int64"
            ]
          },
          "metadata": {
            "tags": []
          },
          "execution_count": 96
        }
      ]
    },
    {
      "cell_type": "code",
      "metadata": {
        "id": "0S5dZc8UMqw9",
        "colab_type": "code",
        "colab": {
          "base_uri": "https://localhost:8080/",
          "height": 284
        },
        "outputId": "20beeed7-c8c4-4026-a630-ca29b97bdce7"
      },
      "source": [
        "df.describe() # stats. Data has almost no skew, as mean ~~= 50% percentile"
      ],
      "execution_count": 97,
      "outputs": [
        {
          "output_type": "execute_result",
          "data": {
            "text/html": [
              "<div>\n",
              "<style scoped>\n",
              "    .dataframe tbody tr th:only-of-type {\n",
              "        vertical-align: middle;\n",
              "    }\n",
              "\n",
              "    .dataframe tbody tr th {\n",
              "        vertical-align: top;\n",
              "    }\n",
              "\n",
              "    .dataframe thead th {\n",
              "        text-align: right;\n",
              "    }\n",
              "</style>\n",
              "<table border=\"1\" class=\"dataframe\">\n",
              "  <thead>\n",
              "    <tr style=\"text-align: right;\">\n",
              "      <th></th>\n",
              "      <th>mcg</th>\n",
              "      <th>gvh</th>\n",
              "      <th>lip</th>\n",
              "      <th>chg</th>\n",
              "      <th>aac</th>\n",
              "      <th>alm1</th>\n",
              "      <th>alm2</th>\n",
              "    </tr>\n",
              "  </thead>\n",
              "  <tbody>\n",
              "    <tr>\n",
              "      <th>count</th>\n",
              "      <td>336.000000</td>\n",
              "      <td>336.000000</td>\n",
              "      <td>336.000000</td>\n",
              "      <td>336.000000</td>\n",
              "      <td>336.000000</td>\n",
              "      <td>336.000000</td>\n",
              "      <td>336.000000</td>\n",
              "    </tr>\n",
              "    <tr>\n",
              "      <th>mean</th>\n",
              "      <td>0.500060</td>\n",
              "      <td>0.500000</td>\n",
              "      <td>0.495476</td>\n",
              "      <td>0.501488</td>\n",
              "      <td>0.500030</td>\n",
              "      <td>0.500179</td>\n",
              "      <td>0.499732</td>\n",
              "    </tr>\n",
              "    <tr>\n",
              "      <th>std</th>\n",
              "      <td>0.194634</td>\n",
              "      <td>0.148157</td>\n",
              "      <td>0.088495</td>\n",
              "      <td>0.027277</td>\n",
              "      <td>0.122376</td>\n",
              "      <td>0.215751</td>\n",
              "      <td>0.209411</td>\n",
              "    </tr>\n",
              "    <tr>\n",
              "      <th>min</th>\n",
              "      <td>0.000000</td>\n",
              "      <td>0.160000</td>\n",
              "      <td>0.480000</td>\n",
              "      <td>0.500000</td>\n",
              "      <td>0.000000</td>\n",
              "      <td>0.030000</td>\n",
              "      <td>0.000000</td>\n",
              "    </tr>\n",
              "    <tr>\n",
              "      <th>25%</th>\n",
              "      <td>0.340000</td>\n",
              "      <td>0.400000</td>\n",
              "      <td>0.480000</td>\n",
              "      <td>0.500000</td>\n",
              "      <td>0.420000</td>\n",
              "      <td>0.330000</td>\n",
              "      <td>0.350000</td>\n",
              "    </tr>\n",
              "    <tr>\n",
              "      <th>50%</th>\n",
              "      <td>0.500000</td>\n",
              "      <td>0.470000</td>\n",
              "      <td>0.480000</td>\n",
              "      <td>0.500000</td>\n",
              "      <td>0.495000</td>\n",
              "      <td>0.455000</td>\n",
              "      <td>0.430000</td>\n",
              "    </tr>\n",
              "    <tr>\n",
              "      <th>75%</th>\n",
              "      <td>0.662500</td>\n",
              "      <td>0.570000</td>\n",
              "      <td>0.480000</td>\n",
              "      <td>0.500000</td>\n",
              "      <td>0.570000</td>\n",
              "      <td>0.710000</td>\n",
              "      <td>0.710000</td>\n",
              "    </tr>\n",
              "    <tr>\n",
              "      <th>max</th>\n",
              "      <td>0.890000</td>\n",
              "      <td>1.000000</td>\n",
              "      <td>1.000000</td>\n",
              "      <td>1.000000</td>\n",
              "      <td>0.880000</td>\n",
              "      <td>1.000000</td>\n",
              "      <td>0.990000</td>\n",
              "    </tr>\n",
              "  </tbody>\n",
              "</table>\n",
              "</div>"
            ],
            "text/plain": [
              "              mcg         gvh         lip  ...         aac        alm1        alm2\n",
              "count  336.000000  336.000000  336.000000  ...  336.000000  336.000000  336.000000\n",
              "mean     0.500060    0.500000    0.495476  ...    0.500030    0.500179    0.499732\n",
              "std      0.194634    0.148157    0.088495  ...    0.122376    0.215751    0.209411\n",
              "min      0.000000    0.160000    0.480000  ...    0.000000    0.030000    0.000000\n",
              "25%      0.340000    0.400000    0.480000  ...    0.420000    0.330000    0.350000\n",
              "50%      0.500000    0.470000    0.480000  ...    0.495000    0.455000    0.430000\n",
              "75%      0.662500    0.570000    0.480000  ...    0.570000    0.710000    0.710000\n",
              "max      0.890000    1.000000    1.000000  ...    0.880000    1.000000    0.990000\n",
              "\n",
              "[8 rows x 7 columns]"
            ]
          },
          "metadata": {
            "tags": []
          },
          "execution_count": 97
        }
      ]
    },
    {
      "cell_type": "markdown",
      "metadata": {
        "id": "CTHLc3LSMqgA",
        "colab_type": "text"
      },
      "source": [
        ""
      ]
    },
    {
      "cell_type": "markdown",
      "metadata": {
        "id": "-gFnZR6iLLPY",
        "colab_type": "text"
      },
      "source": [
        "## 2) Load a dataset from your local machine.\n",
        "Choose a second dataset from the \"Popular Datasets\" listing on UCI, but this time download it to your local machine instead of reading it in via the URL. Upload the file to Google Colab using the files tab in the left-hand sidebar or by importing `files` from `google.colab` The following link will be a useful resource if you can't remember the syntax: <https://towardsdatascience.com/3-ways-to-load-csv-files-into-colab-7c14fcbdcb92>\n",
        "\n",
        "- Answer all of the same bullet point questions from part 1 again on this new dataset. \n"
      ]
    },
    {
      "cell_type": "code",
      "metadata": {
        "id": "qUmwX-ZoM9cq",
        "colab_type": "code",
        "colab": {
          "resources": {
            "http://localhost:8080/nbextensions/google.colab/files.js": {
              "data": "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",
              "ok": true,
              "headers": [
                [
                  "content-type",
                  "application/javascript"
                ]
              ],
              "status": 200,
              "status_text": ""
            }
          },
          "base_uri": "https://localhost:8080/",
          "height": 73
        },
        "outputId": "78e7f0a8-a063-413e-b2b9-eac140162e40"
      },
      "source": [
        "# TODO your work here!\n",
        "# And note you should write comments, descriptions, and add new\n",
        "# code and text blocks as needed\n",
        "from google.colab import files\n",
        "uploaded = files.upload()\n",
        "import io\n"
      ],
      "execution_count": 69,
      "outputs": [
        {
          "output_type": "display_data",
          "data": {
            "text/html": [
              "\n",
              "     <input type=\"file\" id=\"files-c870888d-429b-49ff-9085-5fb5ac9c8275\" name=\"files[]\" multiple disabled\n",
              "        style=\"border:none\" />\n",
              "     <output id=\"result-c870888d-429b-49ff-9085-5fb5ac9c8275\">\n",
              "      Upload widget is only available when the cell has been executed in the\n",
              "      current browser session. Please rerun this cell to enable.\n",
              "      </output>\n",
              "      <script src=\"/nbextensions/google.colab/files.js\"></script> "
            ],
            "text/plain": [
              "<IPython.core.display.HTML object>"
            ]
          },
          "metadata": {
            "tags": []
          }
        },
        {
          "output_type": "stream",
          "text": [
            "Saving car.data to car.data\n"
          ],
          "name": "stdout"
        }
      ]
    },
    {
      "cell_type": "code",
      "metadata": {
        "id": "Uz6aeCwC9qsN",
        "colab_type": "code",
        "colab": {
          "base_uri": "https://localhost:8080/",
          "height": 212
        },
        "outputId": "2a263241-6f57-4003-ba3e-b8799bfec932"
      },
      "source": [
        "#!curl https://archive.ics.uci.edu/ml/machine-learning-databases/car/car.data # just what i need\n",
        "column_headings = ['buying', 'maint', 'doors', 'persons', 'lug_boot', 'safety', 'class'] # Found a problem: one of the columns is missing a heading. There is no way for me to find out what is the last column for, left as 'class'.\n",
        "data_frame = pd.read_csv(io.BytesIO(uploaded['car.data']), names=column_headings)\n",
        "print(data_frame.shape) #6+1 index, 1728 rows, matches. \n",
        "data_frame.head() # no NaNs found"
      ],
      "execution_count": 77,
      "outputs": [
        {
          "output_type": "stream",
          "text": [
            "(1728, 7)\n"
          ],
          "name": "stdout"
        },
        {
          "output_type": "execute_result",
          "data": {
            "text/html": [
              "<div>\n",
              "<style scoped>\n",
              "    .dataframe tbody tr th:only-of-type {\n",
              "        vertical-align: middle;\n",
              "    }\n",
              "\n",
              "    .dataframe tbody tr th {\n",
              "        vertical-align: top;\n",
              "    }\n",
              "\n",
              "    .dataframe thead th {\n",
              "        text-align: right;\n",
              "    }\n",
              "</style>\n",
              "<table border=\"1\" class=\"dataframe\">\n",
              "  <thead>\n",
              "    <tr style=\"text-align: right;\">\n",
              "      <th></th>\n",
              "      <th>buying</th>\n",
              "      <th>maint</th>\n",
              "      <th>doors</th>\n",
              "      <th>persons</th>\n",
              "      <th>lug_boot</th>\n",
              "      <th>safety</th>\n",
              "      <th>class</th>\n",
              "    </tr>\n",
              "  </thead>\n",
              "  <tbody>\n",
              "    <tr>\n",
              "      <th>0</th>\n",
              "      <td>vhigh</td>\n",
              "      <td>vhigh</td>\n",
              "      <td>2</td>\n",
              "      <td>2</td>\n",
              "      <td>small</td>\n",
              "      <td>low</td>\n",
              "      <td>unacc</td>\n",
              "    </tr>\n",
              "    <tr>\n",
              "      <th>1</th>\n",
              "      <td>vhigh</td>\n",
              "      <td>vhigh</td>\n",
              "      <td>2</td>\n",
              "      <td>2</td>\n",
              "      <td>small</td>\n",
              "      <td>med</td>\n",
              "      <td>unacc</td>\n",
              "    </tr>\n",
              "    <tr>\n",
              "      <th>2</th>\n",
              "      <td>vhigh</td>\n",
              "      <td>vhigh</td>\n",
              "      <td>2</td>\n",
              "      <td>2</td>\n",
              "      <td>small</td>\n",
              "      <td>high</td>\n",
              "      <td>unacc</td>\n",
              "    </tr>\n",
              "    <tr>\n",
              "      <th>3</th>\n",
              "      <td>vhigh</td>\n",
              "      <td>vhigh</td>\n",
              "      <td>2</td>\n",
              "      <td>2</td>\n",
              "      <td>med</td>\n",
              "      <td>low</td>\n",
              "      <td>unacc</td>\n",
              "    </tr>\n",
              "    <tr>\n",
              "      <th>4</th>\n",
              "      <td>vhigh</td>\n",
              "      <td>vhigh</td>\n",
              "      <td>2</td>\n",
              "      <td>2</td>\n",
              "      <td>med</td>\n",
              "      <td>med</td>\n",
              "      <td>unacc</td>\n",
              "    </tr>\n",
              "  </tbody>\n",
              "</table>\n",
              "</div>"
            ],
            "text/plain": [
              "  buying  maint doors persons lug_boot safety  class\n",
              "0  vhigh  vhigh     2       2    small    low  unacc\n",
              "1  vhigh  vhigh     2       2    small    med  unacc\n",
              "2  vhigh  vhigh     2       2    small   high  unacc\n",
              "3  vhigh  vhigh     2       2      med    low  unacc\n",
              "4  vhigh  vhigh     2       2      med    med  unacc"
            ]
          },
          "metadata": {
            "tags": []
          },
          "execution_count": 77
        }
      ]
    },
    {
      "cell_type": "code",
      "metadata": {
        "id": "dK8tvzySAUer",
        "colab_type": "code",
        "colab": {
          "base_uri": "https://localhost:8080/",
          "height": 195
        },
        "outputId": "63c247e8-cf84-47f8-c375-d1ea3e36a2e4"
      },
      "source": [
        "\n",
        "data_frame.tail()"
      ],
      "execution_count": 75,
      "outputs": [
        {
          "output_type": "execute_result",
          "data": {
            "text/html": [
              "<div>\n",
              "<style scoped>\n",
              "    .dataframe tbody tr th:only-of-type {\n",
              "        vertical-align: middle;\n",
              "    }\n",
              "\n",
              "    .dataframe tbody tr th {\n",
              "        vertical-align: top;\n",
              "    }\n",
              "\n",
              "    .dataframe thead th {\n",
              "        text-align: right;\n",
              "    }\n",
              "</style>\n",
              "<table border=\"1\" class=\"dataframe\">\n",
              "  <thead>\n",
              "    <tr style=\"text-align: right;\">\n",
              "      <th></th>\n",
              "      <th>buying</th>\n",
              "      <th>maint</th>\n",
              "      <th>doors</th>\n",
              "      <th>persons</th>\n",
              "      <th>lug_boot</th>\n",
              "      <th>safety</th>\n",
              "      <th>class</th>\n",
              "    </tr>\n",
              "  </thead>\n",
              "  <tbody>\n",
              "    <tr>\n",
              "      <th>1723</th>\n",
              "      <td>low</td>\n",
              "      <td>low</td>\n",
              "      <td>5more</td>\n",
              "      <td>more</td>\n",
              "      <td>med</td>\n",
              "      <td>med</td>\n",
              "      <td>good</td>\n",
              "    </tr>\n",
              "    <tr>\n",
              "      <th>1724</th>\n",
              "      <td>low</td>\n",
              "      <td>low</td>\n",
              "      <td>5more</td>\n",
              "      <td>more</td>\n",
              "      <td>med</td>\n",
              "      <td>high</td>\n",
              "      <td>vgood</td>\n",
              "    </tr>\n",
              "    <tr>\n",
              "      <th>1725</th>\n",
              "      <td>low</td>\n",
              "      <td>low</td>\n",
              "      <td>5more</td>\n",
              "      <td>more</td>\n",
              "      <td>big</td>\n",
              "      <td>low</td>\n",
              "      <td>unacc</td>\n",
              "    </tr>\n",
              "    <tr>\n",
              "      <th>1726</th>\n",
              "      <td>low</td>\n",
              "      <td>low</td>\n",
              "      <td>5more</td>\n",
              "      <td>more</td>\n",
              "      <td>big</td>\n",
              "      <td>med</td>\n",
              "      <td>good</td>\n",
              "    </tr>\n",
              "    <tr>\n",
              "      <th>1727</th>\n",
              "      <td>low</td>\n",
              "      <td>low</td>\n",
              "      <td>5more</td>\n",
              "      <td>more</td>\n",
              "      <td>big</td>\n",
              "      <td>high</td>\n",
              "      <td>vgood</td>\n",
              "    </tr>\n",
              "  </tbody>\n",
              "</table>\n",
              "</div>"
            ],
            "text/plain": [
              "     buying maint  doors persons lug_boot safety  class\n",
              "1723    low   low  5more    more      med    med   good\n",
              "1724    low   low  5more    more      med   high  vgood\n",
              "1725    low   low  5more    more      big    low  unacc\n",
              "1726    low   low  5more    more      big    med   good\n",
              "1727    low   low  5more    more      big   high  vgood"
            ]
          },
          "metadata": {
            "tags": []
          },
          "execution_count": 75
        }
      ]
    },
    {
      "cell_type": "code",
      "metadata": {
        "id": "_PCp_rzwAZAx",
        "colab_type": "code",
        "colab": {
          "base_uri": "https://localhost:8080/",
          "height": 252
        },
        "outputId": "89e92102-a789-4b5d-9272-84f0e4571dab"
      },
      "source": [
        "data_frame.dtypes\n",
        "data_frame.info() #we have ONLY cathegorical data here, so 'object' type is acceptable in this case\n"
      ],
      "execution_count": 80,
      "outputs": [
        {
          "output_type": "stream",
          "text": [
            "<class 'pandas.core.frame.DataFrame'>\n",
            "RangeIndex: 1728 entries, 0 to 1727\n",
            "Data columns (total 7 columns):\n",
            " #   Column    Non-Null Count  Dtype \n",
            "---  ------    --------------  ----- \n",
            " 0   buying    1728 non-null   object\n",
            " 1   maint     1728 non-null   object\n",
            " 2   doors     1728 non-null   object\n",
            " 3   persons   1728 non-null   object\n",
            " 4   lug_boot  1728 non-null   object\n",
            " 5   safety    1728 non-null   object\n",
            " 6   class     1728 non-null   object\n",
            "dtypes: object(7)\n",
            "memory usage: 94.6+ KB\n"
          ],
          "name": "stdout"
        }
      ]
    },
    {
      "cell_type": "code",
      "metadata": {
        "id": "dGBuLAhpH-b-",
        "colab_type": "code",
        "colab": {
          "base_uri": "https://localhost:8080/",
          "height": 151
        },
        "outputId": "41936925-e366-4cf3-e8ad-a4f001daf69f"
      },
      "source": [
        "data_frame.isnull().sum() #clean"
      ],
      "execution_count": 81,
      "outputs": [
        {
          "output_type": "execute_result",
          "data": {
            "text/plain": [
              "buying      0\n",
              "maint       0\n",
              "doors       0\n",
              "persons     0\n",
              "lug_boot    0\n",
              "safety      0\n",
              "class       0\n",
              "dtype: int64"
            ]
          },
          "metadata": {
            "tags": []
          },
          "execution_count": 81
        }
      ]
    },
    {
      "cell_type": "code",
      "metadata": {
        "id": "wXWKaSvQISuP",
        "colab_type": "code",
        "colab": {
          "base_uri": "https://localhost:8080/",
          "height": 166
        },
        "outputId": "6047e207-06c6-438b-bafc-9001e50b0cf3"
      },
      "source": [
        "data_frame.describe() #because the data is cathegorical, doesnt really make any mathematical sense to use .describe() here. "
      ],
      "execution_count": 82,
      "outputs": [
        {
          "output_type": "execute_result",
          "data": {
            "text/html": [
              "<div>\n",
              "<style scoped>\n",
              "    .dataframe tbody tr th:only-of-type {\n",
              "        vertical-align: middle;\n",
              "    }\n",
              "\n",
              "    .dataframe tbody tr th {\n",
              "        vertical-align: top;\n",
              "    }\n",
              "\n",
              "    .dataframe thead th {\n",
              "        text-align: right;\n",
              "    }\n",
              "</style>\n",
              "<table border=\"1\" class=\"dataframe\">\n",
              "  <thead>\n",
              "    <tr style=\"text-align: right;\">\n",
              "      <th></th>\n",
              "      <th>buying</th>\n",
              "      <th>maint</th>\n",
              "      <th>doors</th>\n",
              "      <th>persons</th>\n",
              "      <th>lug_boot</th>\n",
              "      <th>safety</th>\n",
              "      <th>class</th>\n",
              "    </tr>\n",
              "  </thead>\n",
              "  <tbody>\n",
              "    <tr>\n",
              "      <th>count</th>\n",
              "      <td>1728</td>\n",
              "      <td>1728</td>\n",
              "      <td>1728</td>\n",
              "      <td>1728</td>\n",
              "      <td>1728</td>\n",
              "      <td>1728</td>\n",
              "      <td>1728</td>\n",
              "    </tr>\n",
              "    <tr>\n",
              "      <th>unique</th>\n",
              "      <td>4</td>\n",
              "      <td>4</td>\n",
              "      <td>4</td>\n",
              "      <td>3</td>\n",
              "      <td>3</td>\n",
              "      <td>3</td>\n",
              "      <td>4</td>\n",
              "    </tr>\n",
              "    <tr>\n",
              "      <th>top</th>\n",
              "      <td>vhigh</td>\n",
              "      <td>vhigh</td>\n",
              "      <td>4</td>\n",
              "      <td>more</td>\n",
              "      <td>small</td>\n",
              "      <td>high</td>\n",
              "      <td>unacc</td>\n",
              "    </tr>\n",
              "    <tr>\n",
              "      <th>freq</th>\n",
              "      <td>432</td>\n",
              "      <td>432</td>\n",
              "      <td>432</td>\n",
              "      <td>576</td>\n",
              "      <td>576</td>\n",
              "      <td>576</td>\n",
              "      <td>1210</td>\n",
              "    </tr>\n",
              "  </tbody>\n",
              "</table>\n",
              "</div>"
            ],
            "text/plain": [
              "       buying  maint doors persons lug_boot safety  class\n",
              "count    1728   1728  1728    1728     1728   1728   1728\n",
              "unique      4      4     4       3        3      3      4\n",
              "top     vhigh  vhigh     4    more    small   high  unacc\n",
              "freq      432    432   432     576      576    576   1210"
            ]
          },
          "metadata": {
            "tags": []
          },
          "execution_count": 82
        }
      ]
    },
    {
      "cell_type": "markdown",
      "metadata": {
        "id": "GHvT2277AYpR",
        "colab_type": "text"
      },
      "source": [
        ""
      ]
    },
    {
      "cell_type": "markdown",
      "metadata": {
        "id": "mq_aQjxlM-u5",
        "colab_type": "text"
      },
      "source": [
        "## 3) Make Crosstabs of the Categorical Variables\n",
        "\n",
        "Take whichever of the above datasets has more categorical variables and use crosstabs to tabulate the different instances of the categorical variables.\n"
      ]
    },
    {
      "cell_type": "code",
      "metadata": {
        "id": "9-n9-LTM-18p",
        "colab_type": "code",
        "colab": {
          "base_uri": "https://localhost:8080/",
          "height": 195
        },
        "outputId": "3e39f64b-b6c3-4307-b1b5-a69da2f2625a"
      },
      "source": [
        "# Your Code Here\n",
        "pd.crosstab(data_frame['buying'], data_frame['class'])"
      ],
      "execution_count": 101,
      "outputs": [
        {
          "output_type": "execute_result",
          "data": {
            "text/html": [
              "<div>\n",
              "<style scoped>\n",
              "    .dataframe tbody tr th:only-of-type {\n",
              "        vertical-align: middle;\n",
              "    }\n",
              "\n",
              "    .dataframe tbody tr th {\n",
              "        vertical-align: top;\n",
              "    }\n",
              "\n",
              "    .dataframe thead th {\n",
              "        text-align: right;\n",
              "    }\n",
              "</style>\n",
              "<table border=\"1\" class=\"dataframe\">\n",
              "  <thead>\n",
              "    <tr style=\"text-align: right;\">\n",
              "      <th>class</th>\n",
              "      <th>acc</th>\n",
              "      <th>good</th>\n",
              "      <th>unacc</th>\n",
              "      <th>vgood</th>\n",
              "    </tr>\n",
              "    <tr>\n",
              "      <th>buying</th>\n",
              "      <th></th>\n",
              "      <th></th>\n",
              "      <th></th>\n",
              "      <th></th>\n",
              "    </tr>\n",
              "  </thead>\n",
              "  <tbody>\n",
              "    <tr>\n",
              "      <th>high</th>\n",
              "      <td>108</td>\n",
              "      <td>0</td>\n",
              "      <td>324</td>\n",
              "      <td>0</td>\n",
              "    </tr>\n",
              "    <tr>\n",
              "      <th>low</th>\n",
              "      <td>89</td>\n",
              "      <td>46</td>\n",
              "      <td>258</td>\n",
              "      <td>39</td>\n",
              "    </tr>\n",
              "    <tr>\n",
              "      <th>med</th>\n",
              "      <td>115</td>\n",
              "      <td>23</td>\n",
              "      <td>268</td>\n",
              "      <td>26</td>\n",
              "    </tr>\n",
              "    <tr>\n",
              "      <th>vhigh</th>\n",
              "      <td>72</td>\n",
              "      <td>0</td>\n",
              "      <td>360</td>\n",
              "      <td>0</td>\n",
              "    </tr>\n",
              "  </tbody>\n",
              "</table>\n",
              "</div>"
            ],
            "text/plain": [
              "class   acc  good  unacc  vgood\n",
              "buying                         \n",
              "high    108     0    324      0\n",
              "low      89    46    258     39\n",
              "med     115    23    268     26\n",
              "vhigh    72     0    360      0"
            ]
          },
          "metadata": {
            "tags": []
          },
          "execution_count": 101
        }
      ]
    },
    {
      "cell_type": "markdown",
      "metadata": {
        "id": "OJ4t2IAk-6Vg",
        "colab_type": "text"
      },
      "source": [
        "## 4) Explore the distributions of the variables of the dataset using:\n",
        "- Histograms\n",
        "- Scatterplots\n",
        "- Density Plots"
      ]
    },
    {
      "cell_type": "code",
      "metadata": {
        "id": "DhES5WmH_NFt",
        "colab_type": "code",
        "colab": {
          "base_uri": "https://localhost:8080/",
          "height": 265
        },
        "outputId": "90ffb007-ac24-440e-b042-29f332930f07"
      },
      "source": [
        "df['aac'].plot();\n"
      ],
      "execution_count": 110,
      "outputs": [
        {
          "output_type": "display_data",
          "data": {
            "image/png": "[encoded data removed]",
            "text/plain": [
              "<Figure size 432x288 with 1 Axes>"
            ]
          },
          "metadata": {
            "tags": [],
            "needs_background": "light"
          }
        }
      ]
    },
    {
      "cell_type": "code",
      "metadata": {
        "id": "v-gwQB9OWk11",
        "colab_type": "code",
        "colab": {
          "base_uri": "https://localhost:8080/",
          "height": 265
        },
        "outputId": "979d6f05-d870-4924-ee84-560c903f9a93"
      },
      "source": [
        "df['mcg'].hist(bins=25);"
      ],
      "execution_count": 112,
      "outputs": [
        {
          "output_type": "display_data",
          "data": {
            "image/png": "[encoded data removed]",
            "text/plain": [
              "<Figure size 432x288 with 1 Axes>"
            ]
          },
          "metadata": {
            "tags": [],
            "needs_background": "light"
          }
        }
      ]
    },
    {
      "cell_type": "code",
      "metadata": {
        "id": "uaqJXZn0Wolj",
        "colab_type": "code",
        "colab": {
          "base_uri": "https://localhost:8080/",
          "height": 279
        },
        "outputId": "1bac1a94-d1b8-44b6-c797-0cc80b137705"
      },
      "source": [
        "df.plot.scatter('gvh', 'aac'); # i can certainly see the distribution here, 0.4gvh - 0.5 aac"
      ],
      "execution_count": 115,
      "outputs": [
        {
          "output_type": "display_data",
          "data": {
            "image/png": "[encoded data removed]",
            "text/plain": [
              "<Figure size 432x288 with 1 Axes>"
            ]
          },
          "metadata": {
            "tags": [],
            "needs_background": "light"
          }
        }
      ]
    },
    {
      "cell_type": "code",
      "metadata": {
        "id": "enb7kB-XXG7R",
        "colab_type": "code",
        "colab": {
          "base_uri": "https://localhost:8080/",
          "height": 265
        },
        "outputId": "82cf9e34-d903-4da2-d7ab-a72170383c6e"
      },
      "source": [
        "df['lip'].plot.density(); # all values are very tight in one spot"
      ],
      "execution_count": 116,
      "outputs": [
        {
          "output_type": "display_data",
          "data": {
            "image/png": "[encoded data removed]",
            "text/plain": [
              "<Figure size 432x288 with 1 Axes>"
            ]
          },
          "metadata": {
            "tags": [],
            "needs_background": "light"
          }
        }
      ]
    },
    {
      "cell_type": "markdown",
      "metadata": {
        "id": "LXXTzpgp_N0q",
        "colab_type": "text"
      },
      "source": [
        "## 5) Create at least one visualization from a crosstab:\n",
        "\n",
        "Remember that a crosstab is just a dataframe and can be manipulated in the same way by row index, column, index, or column/row/cell position.\n"
      ]
    },
    {
      "cell_type": "code",
      "metadata": {
        "id": "kBQKXHUa_VxM",
        "colab_type": "code",
        "colab": {
          "base_uri": "https://localhost:8080/",
          "height": 296
        },
        "outputId": "f75181dc-5f32-40cf-f59e-246b8a7fb25b"
      },
      "source": [
        "pd.crosstab(data_frame['class'], data_frame['buying']).plot() "
      ],
      "execution_count": 103,
      "outputs": [
        {
          "output_type": "execute_result",
          "data": {
            "text/plain": [
              "<matplotlib.axes._subplots.AxesSubplot at 0x7f195fa7e4e0>"
            ]
          },
          "metadata": {
            "tags": []
          },
          "execution_count": 103
        },
        {
          "output_type": "display_data",
          "data": {
            "image/png": "[encoded data removed]",
            "text/plain": [
              "<Figure size 432x288 with 1 Axes>"
            ]
          },
          "metadata": {
            "tags": [],
            "needs_background": "light"
          }
        }
      ]
    },
    {
      "cell_type": "markdown",
      "metadata": {
        "id": "MZCxTwKuReV9",
        "colab_type": "text"
      },
      "source": [
        "## Stretch Goals \n",
        "\n",
        "The following additional study tasks are optional, they are intended to give you an opportunity to stretch yourself beyond the main requirements of the assignment. You can pick and choose from the below, you do not need to complete them in any particular order.\n",
        "\n",
        "### - Practice Exploring other Datasets\n",
        "\n",
        "### -  Try using the Seaborn plotting library's \"Pairplot\" functionality in order to explore all of the possible histograms and scatterplots of your dataset all at once:\n",
        "\n",
        "[Seaborn Pairplot](https://seaborn.pydata.org/generated/seaborn.pairplot.html)\n",
        "\n",
        "### - Turn some of the continuous variables into categorical variables by binning the values using:\n",
        "- [pd.cut()](https://pandas.pydata.org/pandas-docs/version/0.23.4/generated/pandas.cut.html)\n",
        "- [pd.qcut()](https://pandas.pydata.org/pandas-docs/stable/reference/api/pandas.qcut.html)\n",
        "- <https://stackoverflow.com/questions/30211923/what-is-the-difference-between-pandas-qcut-and-pandas-cut>\n",
        "\n",
        "And then use crosstabs to compare/visualize these binned variables against the other variables.\n",
        "\n",
        "\n",
        "### - Other types and sources of data\n",
        "Not all data comes in a nice single file - for example, image classification involves handling lots of image files. You still will probably want labels for them, so you may have tabular data in addition to the image blobs - and the images may be reduced in resolution and even fit in a regular csv as a bunch of numbers.\n",
        "\n",
        "If you're interested in natural language processing and analyzing text, that is another example where, while it can be put in a csv, you may end up loading much larger raw data and generating features that can then be thought of in a more standard tabular fashion.\n",
        "\n",
        "Overall you will in the course of learning data science deal with loading data in a variety of ways. Another common way to get data is from a database - most modern applications are backed by one or more databases, which you can query to get data to analyze. We'll cover this more in our data engineering unit.\n",
        "\n",
        "How does data get in the database? Most applications generate logs - text files with lots and lots of records of each use of the application. Databases are often populated based on these files, but in some situations you may directly analyze log files. The usual way to do this is with command line (Unix) tools - command lines are intimidating, so don't expect to learn them all at once, but depending on your interests it can be useful to practice.\n",
        "\n",
        "One last major source of data is APIs: https://github.com/toddmotto/public-apis\n",
        "\n",
        "API stands for Application Programming Interface, and while originally meant e.g. the way an application interfaced with the GUI or other aspects of an operating system, now it largely refers to online services that let you query and retrieve data. You can essentially think of most of them as \"somebody else's database\" - you have (usually limited) access.\n",
        "\n",
        "*Stretch goal* - research one of the above extended forms of data/data loading. See if you can get a basic example working in a notebook. Image, text, or (public) APIs are probably more tractable - databases are interesting, but there aren't many publicly accessible and they require a great deal of setup."
      ]
    },
    {
      "cell_type": "code",
      "metadata": {
        "id": "f4QP6--JBXNK",
        "colab_type": "code",
        "colab": {}
      },
      "source": [
        ""
      ],
      "execution_count": null,
      "outputs": []
    }
  ]
}